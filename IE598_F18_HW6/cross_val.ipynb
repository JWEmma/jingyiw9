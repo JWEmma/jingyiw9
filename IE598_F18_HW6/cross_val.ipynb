{
 "cells": [
  {
   "cell_type": "code",
   "execution_count": 47,
   "metadata": {},
   "outputs": [],
   "source": [
    "from sklearn import datasets\n",
    "import numpy as np"
   ]
  },
  {
   "cell_type": "code",
   "execution_count": 48,
   "metadata": {},
   "outputs": [],
   "source": [
    "iris = datasets.load_iris()\n",
    "X = iris.data[:, [2, 3]]\n",
    "y = iris.target"
   ]
  },
  {
   "cell_type": "code",
   "execution_count": 49,
   "metadata": {},
   "outputs": [],
   "source": [
    "from sklearn.model_selection import train_test_split\n",
    "from sklearn import metrics\n",
    "from sklearn.preprocessing import StandardScaler\n",
    "from sklearn.tree import DecisionTreeClassifier\n",
    "k_range = range(1,11)\n",
    "train_scores = []\n",
    "test_scores = []\n",
    "for k in k_range:\n",
    "    X_train, X_test, y_train, y_test = train_test_split(X, y, test_size=0.1, \n",
    "                                                        random_state=k, \n",
    "                                                        stratify=y)\n",
    "    \n",
    "    sc = StandardScaler()\n",
    "    sc.fit(X_train)\n",
    "    X_train_std = sc.transform(X_train)\n",
    "    X_test_std = sc.transform(X_test)\n",
    "    \n",
    "    tree = DecisionTreeClassifier(criterion='gini', max_depth=4,random_state=1)\n",
    "    tree.fit(X_train_std, y_train)\n",
    "\n",
    "    y_train_pred = tree.predict(X_train_std)\n",
    "    y_test_pred = tree.predict(X_test_std)\n",
    "    \n",
    "    train_scores.append(metrics.accuracy_score(y_train,y_train_pred))\n",
    "    test_scores.append(metrics.accuracy_score(y_test,y_test_pred))\n"
   ]
  },
  {
   "cell_type": "code",
   "execution_count": 50,
   "metadata": {},
   "outputs": [
    {
     "name": "stdout",
     "output_type": "stream",
     "text": [
      "[0.9851851851851852, 0.9851851851851852, 0.9851851851851852, 0.9851851851851852, 0.9851851851851852, 0.9851851851851852, 0.9851851851851852, 0.9851851851851852, 0.9851851851851852, 0.9851851851851852]\n",
      "[0.9333333333333333, 1.0, 0.8666666666666667, 1.0, 1.0, 0.8666666666666667, 0.9333333333333333, 1.0, 0.9333333333333333, 1.0]\n"
     ]
    }
   ],
   "source": [
    "print(train_scores)\n",
    "print(test_scores)"
   ]
  },
  {
   "cell_type": "code",
   "execution_count": 51,
   "metadata": {},
   "outputs": [
    {
     "name": "stdout",
     "output_type": "stream",
     "text": [
      "(1, 0.9851851851851852)\n",
      "(2, 0.9851851851851852)\n",
      "(3, 0.9851851851851852)\n",
      "(4, 0.9851851851851852)\n",
      "(5, 0.9851851851851852)\n",
      "(6, 0.9851851851851852)\n",
      "(7, 0.9851851851851852)\n",
      "(8, 0.9851851851851852)\n",
      "(9, 0.9851851851851852)\n",
      "(10, 0.9851851851851852)\n",
      "(1, 0.9333333333333333)\n",
      "(2, 1.0)\n",
      "(3, 0.8666666666666667)\n",
      "(4, 1.0)\n",
      "(5, 1.0)\n",
      "(6, 0.8666666666666667)\n",
      "(7, 0.9333333333333333)\n",
      "(8, 1.0)\n",
      "(9, 0.9333333333333333)\n",
      "(10, 1.0)\n"
     ]
    }
   ],
   "source": [
    "in_sample = []\n",
    "out_sample = []\n",
    "for r in zip(k_range, train_scores):\n",
    "    in_sample.append(r)\n",
    "for s in zip(k_range, test_scores):\n",
    "    out_sample.append(s)\n",
    "for i in in_sample:\n",
    "    print(i)\n",
    "for i in out_sample:\n",
    "    print(i)"
   ]
  },
  {
   "cell_type": "code",
   "execution_count": 52,
   "metadata": {},
   "outputs": [
    {
     "name": "stdout",
     "output_type": "stream",
     "text": [
      "0.9851851851851853\n",
      "1.1102230246251565e-16\n",
      "0.9533333333333334\n",
      "0.052068331172711015\n"
     ]
    }
   ],
   "source": [
    "print(np.mean(train_scores))\n",
    "print(np.std(train_scores))\n",
    "print(np.mean(test_scores))\n",
    "print(np.std(test_scores))"
   ]
  },
  {
   "cell_type": "code",
   "execution_count": 53,
   "metadata": {},
   "outputs": [
    {
     "name": "stdout",
     "output_type": "stream",
     "text": [
      "CV accuracy scores: [1.         0.93333333 1.         0.93333333 0.93333333 0.91666667\n",
      " 1.         0.83333333 1.         0.91666667]\n",
      "CV accuracy: 0.947 +/- 0.052\n"
     ]
    }
   ],
   "source": [
    "from sklearn.model_selection import cross_val_score\n",
    "scores = cross_val_score(estimator=tree, X=X_train_std, y=y_train, cv=10, n_jobs=1)\n",
    "\n",
    "print('CV accuracy scores: %s' % scores)\n",
    "print('CV accuracy: %.3f +/- %.3f' % (np.mean(scores),np.std(scores)))"
   ]
  },
  {
   "cell_type": "code",
   "execution_count": 54,
   "metadata": {},
   "outputs": [
    {
     "name": "stdout",
     "output_type": "stream",
     "text": [
      "My name is Jingyi Wang\n",
      "My NetID is: jingyiw9\n",
      "I hereby certify that I have read the University policy on Academic Integrity and that I am not in violation.\n"
     ]
    }
   ],
   "source": [
    "print(\"My name is Jingyi Wang\")\n",
    "print(\"My NetID is: jingyiw9\")\n",
    "print(\"I hereby certify that I have read the University policy on Academic Integrity and that I am not in violation.\")\n",
    "\n"
   ]
  },
  {
   "cell_type": "code",
   "execution_count": null,
   "metadata": {},
   "outputs": [],
   "source": []
  }
 ],
 "metadata": {
  "kernelspec": {
   "display_name": "Python 3",
   "language": "python",
   "name": "python3"
  },
  "language_info": {
   "codemirror_mode": {
    "name": "ipython",
    "version": 3
   },
   "file_extension": ".py",
   "mimetype": "text/x-python",
   "name": "python",
   "nbconvert_exporter": "python",
   "pygments_lexer": "ipython3",
   "version": "3.6.6"
  }
 },
 "nbformat": 4,
 "nbformat_minor": 2
}
