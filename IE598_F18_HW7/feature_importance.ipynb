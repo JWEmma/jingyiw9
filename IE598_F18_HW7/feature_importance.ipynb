{
 "cells": [
  {
   "cell_type": "markdown",
   "metadata": {},
   "source": [
    "## The wine dataset"
   ]
  },
  {
   "cell_type": "markdown",
   "metadata": {},
   "source": [
    "load the wine dataset"
   ]
  },
  {
   "cell_type": "code",
   "execution_count": 17,
   "metadata": {},
   "outputs": [],
   "source": [
    "import pandas as pd\n",
    "import numpy as np"
   ]
  },
  {
   "cell_type": "code",
   "execution_count": 18,
   "metadata": {},
   "outputs": [],
   "source": [
    "df_wine = pd.read_csv('https://archive.ics.uci.edu/'\n",
    "                      'ml/machine-learning-databases/wine/wine.data',\n",
    "                      header=None)\n",
    "\n",
    "df_wine.columns = ['Class label', 'Alcohol', 'Malic acid', 'Ash',\n",
    "                   'Alcalinity of ash', 'Magnesium', 'Total phenols',\n",
    "                   'Flavanoids', 'Nonflavanoid phenols', 'Proanthocyanins',\n",
    "                   'Color intensity', 'Hue', 'OD280/OD315 of diluted wines',\n",
    "                   'Proline']\n"
   ]
  },
  {
   "cell_type": "code",
   "execution_count": 19,
   "metadata": {},
   "outputs": [],
   "source": [
    "from sklearn.model_selection import train_test_split\n",
    "\n",
    "X, y = df_wine.iloc[:, 1:].values, df_wine.iloc[:, 0].values\n",
    "\n",
    "X_train, X_test, y_train, y_test =\\\n",
    "    train_test_split(X, y, \n",
    "                     test_size=0.1, \n",
    "                     random_state=0, \n",
    "                     stratify=y)"
   ]
  },
  {
   "cell_type": "markdown",
   "metadata": {},
   "source": [
    "Part 1: Random forest estimators"
   ]
  },
  {
   "cell_type": "code",
   "execution_count": 20,
   "metadata": {},
   "outputs": [],
   "source": [
    "from sklearn import metrics\n",
    "from sklearn.ensemble import RandomForestClassifier\n",
    "from sklearn.model_selection import cross_val_score\n",
    "import time"
   ]
  },
  {
   "cell_type": "code",
   "execution_count": 21,
   "metadata": {},
   "outputs": [],
   "source": [
    "n_range = [1,5,25,100,500,1000]\n",
    "cv_scores = []\n",
    "time_it = []\n",
    "for n in n_range:\n",
    "    start = time.time()\n",
    "    forest = RandomForestClassifier(criterion='gini',\n",
    "                                    n_estimators=n, \n",
    "                                    random_state=1,\n",
    "                                    n_jobs=2)\n",
    "    \n",
    "    scores = cross_val_score(estimator=forest,\n",
    "                         X=X_train,\n",
    "                         y=y_train,\n",
    "                         cv=10,\n",
    "                         n_jobs=1)\n",
    "    end = time.time()\n",
    "    \n",
    "    cv_scores.append(scores)\n",
    "    time_it.append(end-start)"
   ]
  },
  {
   "cell_type": "code",
   "execution_count": 22,
   "metadata": {},
   "outputs": [
    {
     "name": "stdout",
     "output_type": "stream",
     "text": [
      "[array([0.83333333, 1.        , 0.83333333, 0.875     , 0.93333333,\n",
      "       0.86666667, 0.93333333, 1.        , 0.8       , 0.93333333]), array([0.88888889, 1.        , 0.94444444, 0.9375    , 1.        ,\n",
      "       1.        , 1.        , 1.        , 0.86666667, 0.93333333]), array([1.        , 1.        , 1.        , 1.        , 1.        ,\n",
      "       1.        , 0.93333333, 0.93333333, 0.93333333, 0.93333333]), array([1.        , 1.        , 1.        , 1.        , 1.        ,\n",
      "       1.        , 0.93333333, 0.93333333, 0.93333333, 0.93333333]), array([1.        , 1.        , 1.        , 1.        , 1.        ,\n",
      "       1.        , 0.93333333, 0.93333333, 0.93333333, 0.93333333]), array([1.        , 1.        , 1.        , 1.        , 1.        ,\n",
      "       1.        , 0.93333333, 0.93333333, 0.93333333, 0.93333333])]\n"
     ]
    }
   ],
   "source": [
    "print(cv_scores)"
   ]
  },
  {
   "cell_type": "code",
   "execution_count": 23,
   "metadata": {},
   "outputs": [
    {
     "name": "stdout",
     "output_type": "stream",
     "text": [
      "[1.0761773586273193, 2.153270959854126, 2.314589738845825, 3.118366003036499, 10.175261974334717, 18.144625902175903]\n"
     ]
    }
   ],
   "source": [
    "print(time_it)"
   ]
  },
  {
   "cell_type": "markdown",
   "metadata": {},
   "source": [
    "part 2: Random forest feature importance"
   ]
  },
  {
   "cell_type": "code",
   "execution_count": 27,
   "metadata": {},
   "outputs": [
    {
     "name": "stdout",
     "output_type": "stream",
     "text": [
      " 1) Color intensity                0.182460\n",
      " 2) Flavanoids                     0.172491\n",
      " 3) Proline                        0.148206\n",
      " 4) Alcohol                        0.128809\n",
      " 5) OD280/OD315 of diluted wines   0.097589\n",
      " 6) Hue                            0.077128\n",
      " 7) Total phenols                  0.057665\n",
      " 8) Alcalinity of ash              0.030806\n",
      " 9) Magnesium                      0.030222\n",
      "10) Malic acid                     0.029085\n",
      "11) Nonflavanoid phenols           0.022318\n",
      "12) Proanthocyanins                0.012046\n",
      "13) Ash                            0.011175\n"
     ]
    },
    {
     "data": {
      "image/png": "[encoded data removed]",
      "text/plain": [
       "<Figure size 432x288 with 1 Axes>"
      ]
     },
     "metadata": {
      "needs_background": "light"
     },
     "output_type": "display_data"
    }
   ],
   "source": [
    "import matplotlib.pyplot as plt\n",
    "feat_labels = df_wine.columns[1:]\n",
    "\n",
    "forest = RandomForestClassifier(n_estimators=25,\n",
    "                                random_state=1)\n",
    "\n",
    "forest.fit(X_train, y_train)\n",
    "importances = forest.feature_importances_\n",
    "\n",
    "indices = np.argsort(importances)[::-1]\n",
    "\n",
    "for f in range(X_train.shape[1]):\n",
    "    print(\"%2d) %-*s %f\" % (f + 1, 30, \n",
    "                            feat_labels[indices[f]], \n",
    "                            importances[indices[f]]))\n",
    "\n",
    "plt.title('Feature Importance')\n",
    "plt.bar(range(X_train.shape[1]), \n",
    "        importances[indices],\n",
    "        align='center')\n",
    "\n",
    "plt.xticks(range(X_train.shape[1]), \n",
    "           feat_labels[indices], rotation=90)\n",
    "plt.xlim([-1, X_train.shape[1]])\n",
    "plt.tight_layout()\n",
    "#plt.savefig('images/04_09.png', dpi=300)\n",
    "plt.show()"
   ]
  },
  {
   "cell_type": "code",
   "execution_count": 31,
   "metadata": {},
   "outputs": [
    {
     "name": "stdout",
     "output_type": "stream",
     "text": [
      "My name is Jingyi Wang\n",
      "My NetID is: jingyiw9\n",
      "I hereby certify that I have read the University policy on Academic Integrity and that I am not in violation.\n"
     ]
    }
   ],
   "source": [
    "print(\"My name is Jingyi Wang\")\n",
    "print(\"My NetID is: jingyiw9\")\n",
    "print(\"I hereby certify that I have read the University policy on Academic Integrity and that I am not in violation.\")"
   ]
  },
  {
   "cell_type": "code",
   "execution_count": null,
   "metadata": {},
   "outputs": [],
   "source": []
  }
 ],
 "metadata": {
  "kernelspec": {
   "display_name": "Python 3",
   "language": "python",
   "name": "python3"
  },
  "language_info": {
   "codemirror_mode": {
    "name": "ipython",
    "version": 3
   },
   "file_extension": ".py",
   "mimetype": "text/x-python",
   "name": "python",
   "nbconvert_exporter": "python",
   "pygments_lexer": "ipython3",
   "version": "3.6.6"
  }
 },
 "nbformat": 4,
 "nbformat_minor": 2
}
